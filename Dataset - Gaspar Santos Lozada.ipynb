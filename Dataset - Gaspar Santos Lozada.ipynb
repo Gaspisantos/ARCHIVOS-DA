{
  "cells": [
    {
      "cell_type": "markdown",
      "metadata": {
        "id": "view-in-github",
        "colab_type": "text"
      },
      "source": [
        "<a href=\"https://colab.research.google.com/github/Gaspisantos/ARCHIVOS-DA/blob/main/Dataset%20-%20Gaspar%20Santos%20Lozada.ipynb\" target=\"_parent\"><img src=\"https://colab.research.google.com/assets/colab-badge.svg\" alt=\"Open In Colab\"/></a>"
      ]
    },
    {
      "cell_type": "markdown",
      "source": [
        "**Data Science CoderHouse - Comision 67500 - Gaspar Santos Lozada**"
      ],
      "metadata": {
        "id": "VwAp-Rnl1sw9"
      }
    },
    {
      "cell_type": "markdown",
      "source": [
        "Datasets - Gaspar Santos Lozada"
      ],
      "metadata": {
        "id": "oZWIpiDa1tHd"
      }
    }
  ],
  "metadata": {
    "colab": {
      "name": "Te damos la bienvenida a Colaboratory",
      "toc_visible": true,
      "provenance": [],
      "include_colab_link": true
    },
    "kernelspec": {
      "display_name": "Python 3",
      "name": "python3"
    }
  },
  "nbformat": 4,
  "nbformat_minor": 0
}